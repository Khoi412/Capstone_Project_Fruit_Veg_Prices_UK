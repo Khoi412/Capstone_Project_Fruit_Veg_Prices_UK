{
 "cells": [
  {
   "cell_type": "markdown",
   "metadata": {
    "id": "0aStgWSO0E0E"
   },
   "source": [
    "# **(ADD THE NOTEBOOK NAME HERE)**"
   ]
  },
  {
   "cell_type": "markdown",
   "metadata": {
    "id": "1eLEkw5O0ECa"
   },
   "source": [
    "## Objectives\n",
    "\n",
    "* Fetch Data from Kaggle and save as raw data under Dataset/Raw folder\n",
    "* EDA - Use pandas and numpy to better the data through correlations between factors\n",
    "* Run test for Hypotheses.\n",
    "\n",
    "## Inputs\n",
    "\n",
    "* Dataset from Kaggle https://www.kaggle.com/datasets/datota/fruit-and-vegatable-prices-in-uk-2017-2022\n",
    "* import pandas and numpy libraries - Dataset has text and numerical values\n",
    "\n",
    "## Outputs\n",
    "\n",
    "* Create a cleaned CSV file and save to Dataset/Processed\n",
    "* Use cleaned CSV file for Data Visualisations in a .ipynb  \n",
    "\n",
    "## Additional Comments\n",
    "\n",
    "* Plants and flowers columns were removed from Dataset \n",
    "* Assigned a new datetime and an on and off season for 'strawberries' \n",
    "\n"
   ]
  },
  {
   "cell_type": "markdown",
   "metadata": {
    "id": "9uWZXH9LwoQg"
   },
   "source": [
    "---"
   ]
  },
  {
   "cell_type": "markdown",
   "metadata": {
    "id": "cqP-UeN-z3i2"
   },
   "source": [
    "# Change working directory"
   ]
  },
  {
   "cell_type": "markdown",
   "metadata": {},
   "source": [
    "* We are assuming you will store the notebooks in a subfolder, therefore when running the notebook in the editor, you will need to change the working directory"
   ]
  },
  {
   "cell_type": "markdown",
   "metadata": {
    "id": "aOGIGS-uz3i2"
   },
   "source": [
    "We need to change the working directory from its current folder to its parent folder\n",
    "* We access the current directory with os.getcwd()"
   ]
  },
  {
   "cell_type": "code",
   "execution_count": 1,
   "metadata": {
    "id": "wZfF_j-Bz3i4",
    "outputId": "66943449-1436-4c3d-85c7-b85f9f78349b"
   },
   "outputs": [
    {
     "data": {
      "text/plain": [
       "'c:\\\\Users\\\\ngubo\\\\Documents\\\\vscode-projects\\\\Capstone_Project_Fruit_Veg_Prices_UK\\\\jupyter_notebooks'"
      ]
     },
     "execution_count": 1,
     "metadata": {},
     "output_type": "execute_result"
    }
   ],
   "source": [
    "import os\n",
    "current_dir = os.getcwd()\n",
    "current_dir"
   ]
  },
  {
   "cell_type": "markdown",
   "metadata": {
    "id": "9MWW8E7lz3i7"
   },
   "source": [
    "We want to make the parent of the current directory the new current directory\n",
    "* os.path.dirname() gets the parent directory\n",
    "* os.chir() defines the new current directory"
   ]
  },
  {
   "cell_type": "code",
   "execution_count": 2,
   "metadata": {
    "id": "TwHsQRWjz3i9",
    "outputId": "86849db3-cd2f-4cc5-ebb8-2d0caafa1a2c"
   },
   "outputs": [
    {
     "name": "stdout",
     "output_type": "stream",
     "text": [
      "You set a new current directory\n"
     ]
    }
   ],
   "source": [
    "os.chdir(os.path.dirname(current_dir))\n",
    "print(\"You set a new current directory\")"
   ]
  },
  {
   "cell_type": "markdown",
   "metadata": {
    "id": "M_xPk_Ijz3i-"
   },
   "source": [
    "Confirm the new current directory"
   ]
  },
  {
   "cell_type": "code",
   "execution_count": 3,
   "metadata": {
    "id": "vz3S-_kjz3jA",
    "outputId": "00b79ae4-75d0-4a96-d193-ac9ef9847ea2"
   },
   "outputs": [
    {
     "data": {
      "text/plain": [
       "'c:\\\\Users\\\\ngubo\\\\Documents\\\\vscode-projects\\\\Capstone_Project_Fruit_Veg_Prices_UK'"
      ]
     },
     "execution_count": 3,
     "metadata": {},
     "output_type": "execute_result"
    }
   ],
   "source": [
    "current_dir = os.getcwd()\n",
    "current_dir"
   ]
  },
  {
   "cell_type": "markdown",
   "metadata": {},
   "source": [
    "Import CSV file and Libraries to convert the CSV file into a DataFrame"
   ]
  },
  {
   "cell_type": "code",
   "execution_count": 4,
   "metadata": {},
   "outputs": [
    {
     "name": "stdout",
     "output_type": "stream",
     "text": [
      "         category           item            variety        date  price  unit\n",
      "0           fruit         apples  bramleys_seedling  2022-03-11   2.05    kg\n",
      "1           fruit         apples  coxs_orange_group  2022-03-11   1.22    kg\n",
      "2           fruit         apples    egremont_russet  2022-03-11   1.14    kg\n",
      "3           fruit         apples           braeburn  2022-03-11   1.05    kg\n",
      "4           fruit         apples               gala  2022-03-11   1.03    kg\n",
      "...           ...            ...                ...         ...    ...   ...\n",
      "9642  cut_flowers    alstromeria             indoor  2017-11-03   0.27  stem\n",
      "9643  cut_flowers  chrysanthemum       indoor_spray  2017-11-03   0.22  stem\n",
      "9644  cut_flowers        lillies           oriental  2017-11-03   0.70  stem\n",
      "9645  cut_flowers      narcissus             indoor  2017-11-03   0.06  stem\n",
      "9646   pot_plants       cyclamen              13_cm  2017-11-03   0.75  unit\n",
      "\n",
      "[9647 rows x 6 columns]\n"
     ]
    }
   ],
   "source": [
    "from pathlib import Path\n",
    "\n",
    "import pandas as pd\n",
    "import numpy as np\n",
    "\n",
    "df = pd.read_csv('Dataset/Raw/fruitvegprices-2017_2022.csv')\n",
    "\n",
    "print(df)"
   ]
  },
  {
   "cell_type": "code",
   "execution_count": 5,
   "metadata": {},
   "outputs": [
    {
     "name": "stdout",
     "output_type": "stream",
     "text": [
      "<class 'pandas.core.frame.DataFrame'>\n",
      "RangeIndex: 9647 entries, 0 to 9646\n",
      "Data columns (total 6 columns):\n",
      " #   Column    Non-Null Count  Dtype  \n",
      "---  ------    --------------  -----  \n",
      " 0   category  9647 non-null   object \n",
      " 1   item      9647 non-null   object \n",
      " 2   variety   9647 non-null   object \n",
      " 3   date      9647 non-null   object \n",
      " 4   price     9647 non-null   float64\n",
      " 5   unit      9647 non-null   object \n",
      "dtypes: float64(1), object(5)\n",
      "memory usage: 452.3+ KB\n"
     ]
    }
   ],
   "source": [
    "df.info() # Get information about the DataFrame"
   ]
  },
  {
   "cell_type": "code",
   "execution_count": 6,
   "metadata": {},
   "outputs": [
    {
     "data": {
      "text/html": [
       "<div>\n",
       "<style scoped>\n",
       "    .dataframe tbody tr th:only-of-type {\n",
       "        vertical-align: middle;\n",
       "    }\n",
       "\n",
       "    .dataframe tbody tr th {\n",
       "        vertical-align: top;\n",
       "    }\n",
       "\n",
       "    .dataframe thead th {\n",
       "        text-align: right;\n",
       "    }\n",
       "</style>\n",
       "<table border=\"1\" class=\"dataframe\">\n",
       "  <thead>\n",
       "    <tr style=\"text-align: right;\">\n",
       "      <th></th>\n",
       "      <th>price</th>\n",
       "    </tr>\n",
       "  </thead>\n",
       "  <tbody>\n",
       "    <tr>\n",
       "      <th>count</th>\n",
       "      <td>9647.000000</td>\n",
       "    </tr>\n",
       "    <tr>\n",
       "      <th>mean</th>\n",
       "      <td>1.528333</td>\n",
       "    </tr>\n",
       "    <tr>\n",
       "      <th>std</th>\n",
       "      <td>1.927865</td>\n",
       "    </tr>\n",
       "    <tr>\n",
       "      <th>min</th>\n",
       "      <td>0.020000</td>\n",
       "    </tr>\n",
       "    <tr>\n",
       "      <th>25%</th>\n",
       "      <td>0.540000</td>\n",
       "    </tr>\n",
       "    <tr>\n",
       "      <th>50%</th>\n",
       "      <td>0.880000</td>\n",
       "    </tr>\n",
       "    <tr>\n",
       "      <th>75%</th>\n",
       "      <td>1.500000</td>\n",
       "    </tr>\n",
       "    <tr>\n",
       "      <th>max</th>\n",
       "      <td>17.600000</td>\n",
       "    </tr>\n",
       "  </tbody>\n",
       "</table>\n",
       "</div>"
      ],
      "text/plain": [
       "             price\n",
       "count  9647.000000\n",
       "mean      1.528333\n",
       "std       1.927865\n",
       "min       0.020000\n",
       "25%       0.540000\n",
       "50%       0.880000\n",
       "75%       1.500000\n",
       "max      17.600000"
      ]
     },
     "execution_count": 6,
     "metadata": {},
     "output_type": "execute_result"
    }
   ],
   "source": [
    "df.describe() # Get a summary of the DataFrame"
   ]
  },
  {
   "cell_type": "code",
   "execution_count": 7,
   "metadata": {},
   "outputs": [
    {
     "data": {
      "text/plain": [
       "category     object\n",
       "item         object\n",
       "variety      object\n",
       "date         object\n",
       "price       float64\n",
       "unit         object\n",
       "dtype: object"
      ]
     },
     "execution_count": 7,
     "metadata": {},
     "output_type": "execute_result"
    }
   ],
   "source": [
    "df.dtypes # Check the data types of each column"
   ]
  },
  {
   "cell_type": "code",
   "execution_count": 8,
   "metadata": {},
   "outputs": [
    {
     "data": {
      "text/plain": [
       "category    0\n",
       "item        0\n",
       "variety     0\n",
       "date        0\n",
       "price       0\n",
       "unit        0\n",
       "dtype: int64"
      ]
     },
     "execution_count": 8,
     "metadata": {},
     "output_type": "execute_result"
    }
   ],
   "source": [
    "df.isnull().sum() # Check for missing values in each column "
   ]
  },
  {
   "cell_type": "code",
   "execution_count": 9,
   "metadata": {},
   "outputs": [
    {
     "name": "stdout",
     "output_type": "stream",
     "text": [
      "0\n"
     ]
    }
   ],
   "source": [
    "duplicate = df.duplicated().sum() # Check for duplicate rows in the DataFrame\n",
    "print(duplicate)"
   ]
  },
  {
   "cell_type": "markdown",
   "metadata": {},
   "source": [
    "Check the Value counts of each column"
   ]
  },
  {
   "cell_type": "code",
   "execution_count": 10,
   "metadata": {},
   "outputs": [
    {
     "data": {
      "text/plain": [
       "item\n",
       "apples                  1077\n",
       "cabbage                 1005\n",
       "lettuce                  666\n",
       "onion                    543\n",
       "tomatoes                 445\n",
       "pears                    312\n",
       "capsicum                 303\n",
       "rhubarb                  235\n",
       "beans                    230\n",
       "spring_greens            218\n",
       "cauliflower              218\n",
       "celeriac                 218\n",
       "beetroot                 218\n",
       "pak_choi                 218\n",
       "curly_kale               217\n",
       "carrots                  214\n",
       "swede                    212\n",
       "parsnips                 211\n",
       "leeks                    208\n",
       "turnip                   193\n",
       "cucumbers                164\n",
       "brussels_sprouts         143\n",
       "strawberries             138\n",
       "coriander                131\n",
       "spinach_leaf             129\n",
       "celery                   124\n",
       "calabrese                116\n",
       "mixed_babyleaf_salad     115\n",
       "rocket                   109\n",
       "raspberries              101\n",
       "tulips                    97\n",
       "watercress                92\n",
       "chinese_leaf              86\n",
       "courgettes                81\n",
       "plums                     81\n",
       "peas                      80\n",
       "blueberries               73\n",
       "gladioli                  68\n",
       "currants                  64\n",
       "asparagus                 63\n",
       "blackberries              60\n",
       "sweetcorn                 59\n",
       "alstromeria               58\n",
       "narcissus                 46\n",
       "cherries                  45\n",
       "gooseberries              41\n",
       "lillies                   40\n",
       "cyclamen                  29\n",
       "geranium                  14\n",
       "chrysanthemum             13\n",
       "stocks                     7\n",
       "peony                      7\n",
       "poinsettia                 6\n",
       "sweet_williams             6\n",
       "Name: count, dtype: int64"
      ]
     },
     "execution_count": 10,
     "metadata": {},
     "output_type": "execute_result"
    }
   ],
   "source": [
    "df['item'].value_counts() # Check the Value counts of each column"
   ]
  },
  {
   "cell_type": "code",
   "execution_count": 11,
   "metadata": {},
   "outputs": [
    {
     "data": {
      "text/plain": [
       "category\n",
       "vegetable      7264\n",
       "fruit          1992\n",
       "cut_flowers     342\n",
       "pot_plants       49\n",
       "Name: count, dtype: int64"
      ]
     },
     "execution_count": 11,
     "metadata": {},
     "output_type": "execute_result"
    }
   ],
   "source": [
    "df['category'].value_counts() # Check the Value counts of each column   "
   ]
  },
  {
   "cell_type": "code",
   "execution_count": 12,
   "metadata": {},
   "outputs": [
    {
     "data": {
      "text/plain": [
       "variety\n",
       "red                  353\n",
       "all_varieties        279\n",
       "all                  263\n",
       "bramleys_seedling    218\n",
       "little_gem           218\n",
       "                    ... \n",
       "indoor_spray          13\n",
       "stocks                 7\n",
       "peony                  7\n",
       "sweet_williams         6\n",
       "9_cm                   5\n",
       "Name: count, Length: 77, dtype: int64"
      ]
     },
     "execution_count": 12,
     "metadata": {},
     "output_type": "execute_result"
    }
   ],
   "source": [
    "df['variety'].value_counts() # Check the Value counts of each column"
   ]
  },
  {
   "cell_type": "code",
   "execution_count": 13,
   "metadata": {},
   "outputs": [
    {
     "data": {
      "text/plain": [
       "date\n",
       "2018-09-28    65\n",
       "2018-09-14    63\n",
       "2018-09-07    62\n",
       "2019-08-30    62\n",
       "2019-08-16    61\n",
       "              ..\n",
       "2021-02-05    30\n",
       "2021-01-08    30\n",
       "2020-02-28    29\n",
       "2020-04-10    29\n",
       "2020-04-03    28\n",
       "Name: count, Length: 218, dtype: int64"
      ]
     },
     "execution_count": 13,
     "metadata": {},
     "output_type": "execute_result"
    }
   ],
   "source": [
    "df['date'].value_counts() # Check the Value counts of each column"
   ]
  },
  {
   "cell_type": "code",
   "execution_count": 14,
   "metadata": {},
   "outputs": [
    {
     "data": {
      "text/plain": [
       "price\n",
       "0.50     129\n",
       "0.47     128\n",
       "0.46     124\n",
       "0.52     107\n",
       "0.60      99\n",
       "        ... \n",
       "8.61       1\n",
       "8.08       1\n",
       "8.09       1\n",
       "9.24       1\n",
       "11.00      1\n",
       "Name: count, Length: 835, dtype: int64"
      ]
     },
     "execution_count": 14,
     "metadata": {},
     "output_type": "execute_result"
    }
   ],
   "source": [
    "df['price'].value_counts() # Check the Value counts of each column"
   ]
  },
  {
   "cell_type": "code",
   "execution_count": 15,
   "metadata": {},
   "outputs": [
    {
     "data": {
      "text/plain": [
       "unit\n",
       "kg      7888\n",
       "head    1150\n",
       "stem     342\n",
       "twin     218\n",
       "unit      49\n",
       "Name: count, dtype: int64"
      ]
     },
     "execution_count": 15,
     "metadata": {},
     "output_type": "execute_result"
    }
   ],
   "source": [
    "df['unit'].value_counts() # Check the Value counts of each column"
   ]
  },
  {
   "cell_type": "markdown",
   "metadata": {},
   "source": [
    "* 'Category' column contains 'cut_flowers' and 'pot_plants' in the dataset.\n",
    "* As my strategy is to only look at fruit and veg as a dataset i will be dropping these Rows. \n",
    "* Drop Rows that isn't a fruit or veg."
   ]
  },
  {
   "cell_type": "code",
   "execution_count": 16,
   "metadata": {},
   "outputs": [
    {
     "name": "stdout",
     "output_type": "stream",
     "text": [
      "['fruit' 'vegetable']\n"
     ]
    }
   ],
   "source": [
    "# drop Rows that isn't a fruit or veg.\n",
    "df = df[df['category'].str.lower() != 'cut_flowers']\n",
    "df = df[df['category'].str.lower() != 'pot_plants']\n",
    "\n",
    "# reset index after dropping rows\n",
    "df = df.reset_index(drop=True)\n",
    "\n",
    "# check results\n",
    "print(df['category'].unique())"
   ]
  },
  {
   "cell_type": "markdown",
   "metadata": {},
   "source": [
    "New DataFrame shows only Fruit and Vegetable"
   ]
  },
  {
   "cell_type": "code",
   "execution_count": 17,
   "metadata": {},
   "outputs": [
    {
     "data": {
      "text/plain": [
       "category\n",
       "vegetable    7264\n",
       "fruit        1992\n",
       "Name: count, dtype: int64"
      ]
     },
     "execution_count": 17,
     "metadata": {},
     "output_type": "execute_result"
    }
   ],
   "source": [
    "df['category'].value_counts() # Check the Value counts of each column with the updated DataFrame"
   ]
  },
  {
   "cell_type": "code",
   "execution_count": 18,
   "metadata": {},
   "outputs": [
    {
     "name": "stdout",
     "output_type": "stream",
     "text": [
      "Toatal number of fruit rows: 1992\n"
     ]
    }
   ],
   "source": [
    "df['category'] = df['category'].str.lower() # convert all category values to lowercase\n",
    "\n",
    "fruits_df = df[df['category'] == 'fruit'] # filter the DataFrame to only include rows where category is 'fruit'\n",
    "\n",
    "print(f'Toatal number of fruit rows: {len(fruits_df)}') # print the number of rows in the fruits DataFrame"
   ]
  },
  {
   "cell_type": "markdown",
   "metadata": {},
   "source": [
    "Create a function to focus on a item and see the count (apples)\n"
   ]
  },
  {
   "cell_type": "code",
   "execution_count": 19,
   "metadata": {},
   "outputs": [
    {
     "name": "stdout",
     "output_type": "stream",
     "text": [
      "Apples appear 1077 times in the dataset.\n"
     ]
    }
   ],
   "source": [
    "# Normalize the 'item' column to lowercase\n",
    "df['item'] = df['item'].str.lower()\n",
    "\n",
    "# Count occurrences of all items\n",
    "item_counts = df['item'].value_counts()\n",
    "\n",
    "# Get the count for apples\n",
    "apples_count = item_counts.get('apples', 0)  # returns 0 if 'apples' not found\n",
    "\n",
    "print(f\"Apples appear {apples_count} times in the dataset.\")"
   ]
  },
  {
   "cell_type": "markdown",
   "metadata": {},
   "source": [
    "Create a Dataset to itemise Fruits"
   ]
  },
  {
   "cell_type": "code",
   "execution_count": 20,
   "metadata": {},
   "outputs": [
    {
     "name": "stdout",
     "output_type": "stream",
     "text": [
      "Created dataset for apples: 1077 records\n",
      "Created dataset for pears: 312 records\n",
      "Created dataset for raspberries: 101 records\n",
      "Created dataset for strawberries: 138 records\n",
      "Created dataset for blackberries: 60 records\n",
      "Created dataset for currants: 64 records\n",
      "Created dataset for blueberries: 73 records\n",
      "Created dataset for plums: 81 records\n",
      "Created dataset for cherries: 45 records\n",
      "Created dataset for gooseberries: 41 records\n"
     ]
    }
   ],
   "source": [
    "fruit_datasets = {}\n",
    "\n",
    "# Step 1: Create fruits_df once, normalize 'item' column\n",
    "fruits_df = df[df['category'] == 'fruit'].copy()\n",
    "fruits_df['item'] = fruits_df['item'].str.lower()\n",
    "\n",
    "# Step 2: Get unique fruits\n",
    "unique_fruits = fruits_df['item'].unique()\n",
    "\n",
    "# Step 3: Loop through each fruit and create filtered datasets\n",
    "for fruit in unique_fruits:\n",
    "    fruit_data = fruits_df[fruits_df['item'] == fruit].copy()\n",
    "    \n",
    "    # Convert 'date' to datetime\n",
    "    fruit_data['date'] = pd.to_datetime(fruit_data['date'])\n",
    "    \n",
    "    # Select only needed columns\n",
    "    fruit_datasets[fruit] = fruit_data[['category', 'variety', 'price', 'unit', 'date']]\n",
    "    \n",
    "    print(f\"Created dataset for {fruit}: {len(fruit_datasets[fruit])} records\")"
   ]
  },
  {
   "cell_type": "code",
   "execution_count": 21,
   "metadata": {},
   "outputs": [
    {
     "name": "stdout",
     "output_type": "stream",
     "text": [
      "     category            variety  price unit       date\n",
      "0       fruit  bramleys_seedling   2.05   kg 2022-03-11\n",
      "1       fruit  coxs_orange_group   1.22   kg 2022-03-11\n",
      "2       fruit    egremont_russet   1.14   kg 2022-03-11\n",
      "3       fruit           braeburn   1.05   kg 2022-03-11\n",
      "4       fruit               gala   1.03   kg 2022-03-11\n",
      "...       ...                ...    ...  ...        ...\n",
      "9209    fruit    egremont_russet   0.82   kg 2017-11-03\n",
      "9210    fruit           braeburn   0.64   kg 2017-11-03\n",
      "9211    fruit               gala   0.79   kg 2017-11-03\n",
      "9212    fruit   other_mid_season   0.76   kg 2017-11-03\n",
      "9213    fruit  other_late_season   0.75   kg 2017-11-03\n",
      "\n",
      "[1077 rows x 5 columns]\n"
     ]
    }
   ],
   "source": [
    "# Check the fruit with the highest count 'apples'\n",
    "apples_df = fruit_datasets.get('apples')\n",
    "print(apples_df)"
   ]
  },
  {
   "cell_type": "markdown",
   "metadata": {},
   "source": [
    "Check unique varieties on focused item 'apples'"
   ]
  },
  {
   "cell_type": "code",
   "execution_count": 22,
   "metadata": {},
   "outputs": [
    {
     "data": {
      "text/plain": [
       "array(['bramleys_seedling', 'coxs_orange_group', 'egremont_russet',\n",
       "       'braeburn', 'gala', 'other_late_season', 'other_mid_season',\n",
       "       'other_early_season'], dtype=object)"
      ]
     },
     "execution_count": 22,
     "metadata": {},
     "output_type": "execute_result"
    }
   ],
   "source": [
    "df[df['item'] == 'apples']['variety'].unique()"
   ]
  },
  {
   "cell_type": "markdown",
   "metadata": {},
   "source": [
    "Average price per variety on item 'apples'"
   ]
  },
  {
   "cell_type": "code",
   "execution_count": 23,
   "metadata": {},
   "outputs": [
    {
     "data": {
      "text/html": [
       "<div>\n",
       "<style scoped>\n",
       "    .dataframe tbody tr th:only-of-type {\n",
       "        vertical-align: middle;\n",
       "    }\n",
       "\n",
       "    .dataframe tbody tr th {\n",
       "        vertical-align: top;\n",
       "    }\n",
       "\n",
       "    .dataframe thead th {\n",
       "        text-align: right;\n",
       "    }\n",
       "</style>\n",
       "<table border=\"1\" class=\"dataframe\">\n",
       "  <thead>\n",
       "    <tr style=\"text-align: right;\">\n",
       "      <th></th>\n",
       "      <th>mean_price</th>\n",
       "      <th>unit</th>\n",
       "    </tr>\n",
       "    <tr>\n",
       "      <th>variety</th>\n",
       "      <th></th>\n",
       "      <th></th>\n",
       "    </tr>\n",
       "  </thead>\n",
       "  <tbody>\n",
       "    <tr>\n",
       "      <th>other_mid_season</th>\n",
       "      <td>£0.81</td>\n",
       "      <td>kg</td>\n",
       "    </tr>\n",
       "    <tr>\n",
       "      <th>braeburn</th>\n",
       "      <td>£0.90</td>\n",
       "      <td>kg</td>\n",
       "    </tr>\n",
       "    <tr>\n",
       "      <th>other_early_season</th>\n",
       "      <td>£0.91</td>\n",
       "      <td>kg</td>\n",
       "    </tr>\n",
       "    <tr>\n",
       "      <th>other_late_season</th>\n",
       "      <td>£0.95</td>\n",
       "      <td>kg</td>\n",
       "    </tr>\n",
       "    <tr>\n",
       "      <th>gala</th>\n",
       "      <td>£0.95</td>\n",
       "      <td>kg</td>\n",
       "    </tr>\n",
       "    <tr>\n",
       "      <th>coxs_orange_group</th>\n",
       "      <td>£0.98</td>\n",
       "      <td>kg</td>\n",
       "    </tr>\n",
       "    <tr>\n",
       "      <th>egremont_russet</th>\n",
       "      <td>£1.16</td>\n",
       "      <td>kg</td>\n",
       "    </tr>\n",
       "    <tr>\n",
       "      <th>bramleys_seedling</th>\n",
       "      <td>£1.22</td>\n",
       "      <td>kg</td>\n",
       "    </tr>\n",
       "  </tbody>\n",
       "</table>\n",
       "</div>"
      ],
      "text/plain": [
       "                   mean_price unit\n",
       "variety                           \n",
       "other_mid_season        £0.81   kg\n",
       "braeburn                £0.90   kg\n",
       "other_early_season      £0.91   kg\n",
       "other_late_season       £0.95   kg\n",
       "gala                    £0.95   kg\n",
       "coxs_orange_group       £0.98   kg\n",
       "egremont_russet         £1.16   kg\n",
       "bramleys_seedling       £1.22   kg"
      ]
     },
     "execution_count": 23,
     "metadata": {},
     "output_type": "execute_result"
    }
   ],
   "source": [
    "# Analyze the mean price of different apple varieties\n",
    "(\n",
    "    df[df['item'] == 'apples']\n",
    "    .groupby('variety')\n",
    "    .agg(mean_price=('price', 'mean'), unit=('unit', 'first'))\n",
    "    .sort_values('mean_price')\n",
    "    .assign(mean_price=lambda d: d['mean_price'].map('£{:.2f}'.format)) # Format mean_price as UK currency GBP(£)\n",
    ")"
   ]
  },
  {
   "cell_type": "markdown",
   "metadata": {},
   "source": [
    "Use std to see the volatility of off-season prices "
   ]
  },
  {
   "cell_type": "code",
   "execution_count": 24,
   "metadata": {},
   "outputs": [
    {
     "data": {
      "text/html": [
       "<div>\n",
       "<style scoped>\n",
       "    .dataframe tbody tr th:only-of-type {\n",
       "        vertical-align: middle;\n",
       "    }\n",
       "\n",
       "    .dataframe tbody tr th {\n",
       "        vertical-align: top;\n",
       "    }\n",
       "\n",
       "    .dataframe thead th {\n",
       "        text-align: right;\n",
       "    }\n",
       "</style>\n",
       "<table border=\"1\" class=\"dataframe\">\n",
       "  <thead>\n",
       "    <tr style=\"text-align: right;\">\n",
       "      <th></th>\n",
       "      <th>std_price</th>\n",
       "      <th>unit</th>\n",
       "    </tr>\n",
       "    <tr>\n",
       "      <th>variety</th>\n",
       "      <th></th>\n",
       "      <th></th>\n",
       "    </tr>\n",
       "  </thead>\n",
       "  <tbody>\n",
       "    <tr>\n",
       "      <th>gala</th>\n",
       "      <td>£0.15</td>\n",
       "      <td>kg</td>\n",
       "    </tr>\n",
       "    <tr>\n",
       "      <th>braeburn</th>\n",
       "      <td>£0.15</td>\n",
       "      <td>kg</td>\n",
       "    </tr>\n",
       "    <tr>\n",
       "      <th>other_mid_season</th>\n",
       "      <td>£0.21</td>\n",
       "      <td>kg</td>\n",
       "    </tr>\n",
       "    <tr>\n",
       "      <th>egremont_russet</th>\n",
       "      <td>£0.22</td>\n",
       "      <td>kg</td>\n",
       "    </tr>\n",
       "    <tr>\n",
       "      <th>other_early_season</th>\n",
       "      <td>£0.23</td>\n",
       "      <td>kg</td>\n",
       "    </tr>\n",
       "    <tr>\n",
       "      <th>coxs_orange_group</th>\n",
       "      <td>£0.23</td>\n",
       "      <td>kg</td>\n",
       "    </tr>\n",
       "    <tr>\n",
       "      <th>other_late_season</th>\n",
       "      <td>£0.29</td>\n",
       "      <td>kg</td>\n",
       "    </tr>\n",
       "    <tr>\n",
       "      <th>bramleys_seedling</th>\n",
       "      <td>£0.46</td>\n",
       "      <td>kg</td>\n",
       "    </tr>\n",
       "  </tbody>\n",
       "</table>\n",
       "</div>"
      ],
      "text/plain": [
       "                   std_price unit\n",
       "variety                          \n",
       "gala                   £0.15   kg\n",
       "braeburn               £0.15   kg\n",
       "other_mid_season       £0.21   kg\n",
       "egremont_russet        £0.22   kg\n",
       "other_early_season     £0.23   kg\n",
       "coxs_orange_group      £0.23   kg\n",
       "other_late_season      £0.29   kg\n",
       "bramleys_seedling      £0.46   kg"
      ]
     },
     "execution_count": 24,
     "metadata": {},
     "output_type": "execute_result"
    }
   ],
   "source": [
    "# Analyze the standard deviation of prices for different apple varieties\n",
    "(\n",
    "    df[df['item'] == 'apples']\n",
    "    .groupby('variety')\n",
    "    .agg(std_price=('price', 'std'), unit=('unit', 'first'))\n",
    "    .sort_values('std_price')\n",
    "    .assign(std_price=lambda d: d['std_price'].map('£{:.2f}'.format))\n",
    ")"
   ]
  },
  {
   "cell_type": "markdown",
   "metadata": {},
   "source": [
    "Create a Dataframe showing both mean and std price for better understanding through different varieties of apples and it's off-seasons"
   ]
  },
  {
   "cell_type": "code",
   "execution_count": 25,
   "metadata": {},
   "outputs": [
    {
     "data": {
      "text/html": [
       "<div>\n",
       "<style scoped>\n",
       "    .dataframe tbody tr th:only-of-type {\n",
       "        vertical-align: middle;\n",
       "    }\n",
       "\n",
       "    .dataframe tbody tr th {\n",
       "        vertical-align: top;\n",
       "    }\n",
       "\n",
       "    .dataframe thead th {\n",
       "        text-align: right;\n",
       "    }\n",
       "</style>\n",
       "<table border=\"1\" class=\"dataframe\">\n",
       "  <thead>\n",
       "    <tr style=\"text-align: right;\">\n",
       "      <th></th>\n",
       "      <th>mean_price</th>\n",
       "      <th>std_price</th>\n",
       "      <th>unit</th>\n",
       "    </tr>\n",
       "    <tr>\n",
       "      <th>variety</th>\n",
       "      <th></th>\n",
       "      <th></th>\n",
       "      <th></th>\n",
       "    </tr>\n",
       "  </thead>\n",
       "  <tbody>\n",
       "    <tr>\n",
       "      <th>other_mid_season</th>\n",
       "      <td>£0.81</td>\n",
       "      <td>£0.21</td>\n",
       "      <td>kg</td>\n",
       "    </tr>\n",
       "    <tr>\n",
       "      <th>braeburn</th>\n",
       "      <td>£0.90</td>\n",
       "      <td>£0.15</td>\n",
       "      <td>kg</td>\n",
       "    </tr>\n",
       "    <tr>\n",
       "      <th>other_early_season</th>\n",
       "      <td>£0.91</td>\n",
       "      <td>£0.23</td>\n",
       "      <td>kg</td>\n",
       "    </tr>\n",
       "    <tr>\n",
       "      <th>other_late_season</th>\n",
       "      <td>£0.95</td>\n",
       "      <td>£0.29</td>\n",
       "      <td>kg</td>\n",
       "    </tr>\n",
       "    <tr>\n",
       "      <th>gala</th>\n",
       "      <td>£0.95</td>\n",
       "      <td>£0.15</td>\n",
       "      <td>kg</td>\n",
       "    </tr>\n",
       "    <tr>\n",
       "      <th>coxs_orange_group</th>\n",
       "      <td>£0.98</td>\n",
       "      <td>£0.23</td>\n",
       "      <td>kg</td>\n",
       "    </tr>\n",
       "    <tr>\n",
       "      <th>egremont_russet</th>\n",
       "      <td>£1.16</td>\n",
       "      <td>£0.22</td>\n",
       "      <td>kg</td>\n",
       "    </tr>\n",
       "    <tr>\n",
       "      <th>bramleys_seedling</th>\n",
       "      <td>£1.22</td>\n",
       "      <td>£0.46</td>\n",
       "      <td>kg</td>\n",
       "    </tr>\n",
       "  </tbody>\n",
       "</table>\n",
       "</div>"
      ],
      "text/plain": [
       "                   mean_price std_price unit\n",
       "variety                                     \n",
       "other_mid_season        £0.81     £0.21   kg\n",
       "braeburn                £0.90     £0.15   kg\n",
       "other_early_season      £0.91     £0.23   kg\n",
       "other_late_season       £0.95     £0.29   kg\n",
       "gala                    £0.95     £0.15   kg\n",
       "coxs_orange_group       £0.98     £0.23   kg\n",
       "egremont_russet         £1.16     £0.22   kg\n",
       "bramleys_seedling       £1.22     £0.46   kg"
      ]
     },
     "execution_count": 25,
     "metadata": {},
     "output_type": "execute_result"
    }
   ],
   "source": [
    "(\n",
    "    df[df['item'] == 'apples']\n",
    "    .groupby('variety')\n",
    "    .agg(\n",
    "    mean_price=('price', 'mean'),\n",
    "    std_price=('price', 'std'),\n",
    "    unit=('unit', 'first')\n",
    ")\n",
    "    .sort_values(['mean_price', 'std_price'])\n",
    "    .assign(\n",
    "    mean_price=lambda d: d['mean_price'].map('£{:.2f}'.format),\n",
    "    std_price=lambda d: d['std_price'].map('£{:.2f}'.format)\n",
    ")\n",
    ")"
   ]
  },
  {
   "cell_type": "markdown",
   "metadata": {},
   "source": [
    "Braeburn and Gala are relatively affordable — probably due to wide availability and longer storage life.\n",
    "\n",
    "Cox's Orange Group and Egremont Russet are a bit more niche — the prices reflect that.\n",
    "\n",
    "Bramley's Seedling (mostly used for cooking) is the most expensive on average — could reflect lower supply or strong demand for cooking apples.\n",
    "\n"
   ]
  },
  {
   "cell_type": "markdown",
   "metadata": {},
   "source": [
    "Create a Dataset to itemise Vegetables "
   ]
  },
  {
   "cell_type": "code",
   "execution_count": 26,
   "metadata": {},
   "outputs": [
    {
     "name": "stdout",
     "output_type": "stream",
     "text": [
      "Created dataset for beetroot: 218 records\n",
      "Created dataset for brussels_sprouts: 143 records\n",
      "Created dataset for pak_choi: 218 records\n",
      "Created dataset for curly_kale: 217 records\n",
      "Created dataset for cabbage: 1005 records\n",
      "Created dataset for spring_greens: 218 records\n",
      "Created dataset for carrots: 214 records\n",
      "Created dataset for cauliflower: 218 records\n",
      "Created dataset for celeriac: 218 records\n",
      "Created dataset for cucumbers: 164 records\n",
      "Created dataset for leeks: 208 records\n",
      "Created dataset for lettuce: 666 records\n",
      "Created dataset for onion: 543 records\n",
      "Created dataset for swede: 212 records\n",
      "Created dataset for turnip: 193 records\n",
      "Created dataset for parsnips: 211 records\n",
      "Created dataset for rhubarb: 235 records\n",
      "Created dataset for capsicum: 303 records\n",
      "Created dataset for chinese_leaf: 86 records\n",
      "Created dataset for celery: 124 records\n",
      "Created dataset for tomatoes: 445 records\n",
      "Created dataset for coriander: 131 records\n",
      "Created dataset for spinach_leaf: 129 records\n",
      "Created dataset for calabrese: 116 records\n",
      "Created dataset for rocket: 109 records\n",
      "Created dataset for mixed_babyleaf_salad: 115 records\n",
      "Created dataset for sweetcorn: 59 records\n",
      "Created dataset for beans: 230 records\n",
      "Created dataset for courgettes: 81 records\n",
      "Created dataset for peas: 80 records\n",
      "Created dataset for asparagus: 63 records\n",
      "Created dataset for watercress: 92 records\n"
     ]
    }
   ],
   "source": [
    "vegetable_datasets = {}\n",
    "\n",
    "# Step 1: Create vegetables_df once, normalize 'item' column\n",
    "vegetables_df = df[df['category'] == 'vegetable'].copy()\n",
    "vegetables_df['item'] = vegetables_df['item'].str.lower()\n",
    "\n",
    "# Step 2: Get unique vegetables\n",
    "unique_vegetables = vegetables_df['item'].unique()\n",
    "\n",
    "# Step 3: Loop through each vegetable and create filtered datasets\n",
    "for vegetable in unique_vegetables:\n",
    "    vegetable_data = vegetables_df[vegetables_df['item'] == vegetable].copy()\n",
    "    \n",
    "    # Convert 'date' to datetime\n",
    "    vegetable_data['date'] = pd.to_datetime(vegetable_data['date'])\n",
    "\n",
    "    # Select only needed columns\n",
    "    vegetable_datasets[vegetable] = vegetable_data[['category', 'variety', 'price', 'unit', 'date']]\n",
    "\n",
    "    print(f\"Created dataset for {vegetable}: {len(vegetable_datasets[vegetable])} records\")"
   ]
  },
  {
   "cell_type": "markdown",
   "metadata": {},
   "source": [
    "Transform the Dataset into Descending order from Highest to lowest count"
   ]
  },
  {
   "cell_type": "code",
   "execution_count": 27,
   "metadata": {},
   "outputs": [
    {
     "name": "stdout",
     "output_type": "stream",
     "text": [
      "               vegetable  count\n",
      "0                cabbage   1005\n",
      "1                lettuce    666\n",
      "2                  onion    543\n",
      "3               tomatoes    445\n",
      "4               capsicum    303\n",
      "5                rhubarb    235\n",
      "6                  beans    230\n",
      "7               celeriac    218\n",
      "8               beetroot    218\n",
      "9            cauliflower    218\n",
      "10              pak_choi    218\n",
      "11         spring_greens    218\n",
      "12            curly_kale    217\n",
      "13               carrots    214\n",
      "14                 swede    212\n",
      "15              parsnips    211\n",
      "16                 leeks    208\n",
      "17                turnip    193\n",
      "18             cucumbers    164\n",
      "19      brussels_sprouts    143\n",
      "20             coriander    131\n",
      "21          spinach_leaf    129\n",
      "22                celery    124\n",
      "23             calabrese    116\n",
      "24  mixed_babyleaf_salad    115\n",
      "25                rocket    109\n",
      "26            watercress     92\n",
      "27          chinese_leaf     86\n",
      "28            courgettes     81\n",
      "29                  peas     80\n",
      "30             asparagus     63\n",
      "31             sweetcorn     59\n"
     ]
    }
   ],
   "source": [
    "veg_counts_df = vegetables_df['item'].value_counts().reset_index() # Transform the Dataset into Descending order from Highest to lowest count\n",
    "veg_counts_df.columns = ['vegetable', 'count'] # Rename the columns for clarity\n",
    "\n",
    "print(veg_counts_df)   "
   ]
  },
  {
   "cell_type": "code",
   "execution_count": 28,
   "metadata": {},
   "outputs": [
    {
     "name": "stdout",
     "output_type": "stream",
     "text": [
      "       category                variety  price  unit       date\n",
      "12    vegetable                    red   0.59    kg 2022-03-11\n",
      "13    vegetable                  savoy   0.51  head 2022-03-11\n",
      "15    vegetable                  white   0.41    kg 2022-03-11\n",
      "16    vegetable      round_green_other   0.46  head 2022-03-11\n",
      "43    vegetable                    red   0.56    kg 2022-03-04\n",
      "...         ...                    ...    ...   ...        ...\n",
      "9223  vegetable                    red   0.42    kg 2017-11-03\n",
      "9224  vegetable                  savoy   0.40  head 2017-11-03\n",
      "9226  vegetable  summer_autumn_pointed   0.49    kg 2017-11-03\n",
      "9227  vegetable                  white   0.34    kg 2017-11-03\n",
      "9228  vegetable      round_green_other   0.39  head 2017-11-03\n",
      "\n",
      "[1005 rows x 5 columns]\n"
     ]
    }
   ],
   "source": [
    "# check the vegetable with the highest count 'cabbage'\n",
    "cabbage_df = vegetable_datasets.get('cabbage')\n",
    "print(cabbage_df)"
   ]
  },
  {
   "cell_type": "code",
   "execution_count": 29,
   "metadata": {},
   "outputs": [
    {
     "data": {
      "text/plain": [
       "array(['red', 'savoy', 'white', 'round_green_other',\n",
       "       'summer_autumn_pointed'], dtype=object)"
      ]
     },
     "execution_count": 29,
     "metadata": {},
     "output_type": "execute_result"
    }
   ],
   "source": [
    "df[df['item'] == 'cabbage']['variety'].unique() # get unique varieties of cabbage"
   ]
  },
  {
   "cell_type": "code",
   "execution_count": 30,
   "metadata": {},
   "outputs": [
    {
     "data": {
      "text/html": [
       "<div>\n",
       "<style scoped>\n",
       "    .dataframe tbody tr th:only-of-type {\n",
       "        vertical-align: middle;\n",
       "    }\n",
       "\n",
       "    .dataframe tbody tr th {\n",
       "        vertical-align: top;\n",
       "    }\n",
       "\n",
       "    .dataframe thead th {\n",
       "        text-align: right;\n",
       "    }\n",
       "</style>\n",
       "<table border=\"1\" class=\"dataframe\">\n",
       "  <thead>\n",
       "    <tr style=\"text-align: right;\">\n",
       "      <th></th>\n",
       "      <th>mean_price</th>\n",
       "      <th>unit</th>\n",
       "    </tr>\n",
       "    <tr>\n",
       "      <th>variety</th>\n",
       "      <th></th>\n",
       "      <th></th>\n",
       "    </tr>\n",
       "  </thead>\n",
       "  <tbody>\n",
       "    <tr>\n",
       "      <th>white</th>\n",
       "      <td>£0.48</td>\n",
       "      <td>kg</td>\n",
       "    </tr>\n",
       "    <tr>\n",
       "      <th>round_green_other</th>\n",
       "      <td>£0.50</td>\n",
       "      <td>head</td>\n",
       "    </tr>\n",
       "    <tr>\n",
       "      <th>savoy</th>\n",
       "      <td>£0.52</td>\n",
       "      <td>head</td>\n",
       "    </tr>\n",
       "    <tr>\n",
       "      <th>red</th>\n",
       "      <td>£0.53</td>\n",
       "      <td>kg</td>\n",
       "    </tr>\n",
       "    <tr>\n",
       "      <th>summer_autumn_pointed</th>\n",
       "      <td>£0.60</td>\n",
       "      <td>kg</td>\n",
       "    </tr>\n",
       "  </tbody>\n",
       "</table>\n",
       "</div>"
      ],
      "text/plain": [
       "                      mean_price  unit\n",
       "variety                               \n",
       "white                      £0.48    kg\n",
       "round_green_other          £0.50  head\n",
       "savoy                      £0.52  head\n",
       "red                        £0.53    kg\n",
       "summer_autumn_pointed      £0.60    kg"
      ]
     },
     "execution_count": 30,
     "metadata": {},
     "output_type": "execute_result"
    }
   ],
   "source": [
    "# Analyze the mean price of different cabbage varieties\n",
    "(\n",
    "    df[df['item'] == 'cabbage']\n",
    "    .groupby('variety')\n",
    "    .agg(mean_price=('price', 'mean'), unit=('unit', 'first'))\n",
    "    .sort_values('mean_price')\n",
    "    .assign(mean_price=lambda d: d['mean_price'].map('£{:.2f}'.format))\n",
    ")"
   ]
  },
  {
   "cell_type": "code",
   "execution_count": 31,
   "metadata": {},
   "outputs": [
    {
     "data": {
      "text/html": [
       "<div>\n",
       "<style scoped>\n",
       "    .dataframe tbody tr th:only-of-type {\n",
       "        vertical-align: middle;\n",
       "    }\n",
       "\n",
       "    .dataframe tbody tr th {\n",
       "        vertical-align: top;\n",
       "    }\n",
       "\n",
       "    .dataframe thead th {\n",
       "        text-align: right;\n",
       "    }\n",
       "</style>\n",
       "<table border=\"1\" class=\"dataframe\">\n",
       "  <thead>\n",
       "    <tr style=\"text-align: right;\">\n",
       "      <th></th>\n",
       "      <th>std_price</th>\n",
       "      <th>unit</th>\n",
       "    </tr>\n",
       "    <tr>\n",
       "      <th>variety</th>\n",
       "      <th></th>\n",
       "      <th></th>\n",
       "    </tr>\n",
       "  </thead>\n",
       "  <tbody>\n",
       "    <tr>\n",
       "      <th>summer_autumn_pointed</th>\n",
       "      <td>£0.08</td>\n",
       "      <td>kg</td>\n",
       "    </tr>\n",
       "    <tr>\n",
       "      <th>round_green_other</th>\n",
       "      <td>£0.08</td>\n",
       "      <td>head</td>\n",
       "    </tr>\n",
       "    <tr>\n",
       "      <th>savoy</th>\n",
       "      <td>£0.11</td>\n",
       "      <td>head</td>\n",
       "    </tr>\n",
       "    <tr>\n",
       "      <th>white</th>\n",
       "      <td>£0.14</td>\n",
       "      <td>kg</td>\n",
       "    </tr>\n",
       "    <tr>\n",
       "      <th>red</th>\n",
       "      <td>£0.16</td>\n",
       "      <td>kg</td>\n",
       "    </tr>\n",
       "  </tbody>\n",
       "</table>\n",
       "</div>"
      ],
      "text/plain": [
       "                      std_price  unit\n",
       "variety                              \n",
       "summer_autumn_pointed     £0.08    kg\n",
       "round_green_other         £0.08  head\n",
       "savoy                     £0.11  head\n",
       "white                     £0.14    kg\n",
       "red                       £0.16    kg"
      ]
     },
     "execution_count": 31,
     "metadata": {},
     "output_type": "execute_result"
    }
   ],
   "source": [
    "# Analyze the standard deviation of prices for different cabbage varieties\n",
    "(\n",
    "    df[df['item'] == 'cabbage']\n",
    "    .groupby('variety')\n",
    "    .agg(std_price=('price', 'std'), unit=('unit', 'first'))\n",
    "    .sort_values('std_price')\n",
    "    .assign(std_price=lambda d: d['std_price'].map('£{:.2f}'.format))\n",
    ")"
   ]
  },
  {
   "cell_type": "markdown",
   "metadata": {},
   "source": [
    "Like with 'apples' the same was done with 'cabbage' for better understanding on price fluctuations"
   ]
  },
  {
   "cell_type": "code",
   "execution_count": 32,
   "metadata": {},
   "outputs": [
    {
     "data": {
      "text/html": [
       "<div>\n",
       "<style scoped>\n",
       "    .dataframe tbody tr th:only-of-type {\n",
       "        vertical-align: middle;\n",
       "    }\n",
       "\n",
       "    .dataframe tbody tr th {\n",
       "        vertical-align: top;\n",
       "    }\n",
       "\n",
       "    .dataframe thead th {\n",
       "        text-align: right;\n",
       "    }\n",
       "</style>\n",
       "<table border=\"1\" class=\"dataframe\">\n",
       "  <thead>\n",
       "    <tr style=\"text-align: right;\">\n",
       "      <th></th>\n",
       "      <th>mean_price</th>\n",
       "      <th>std_price</th>\n",
       "      <th>unit</th>\n",
       "    </tr>\n",
       "    <tr>\n",
       "      <th>variety</th>\n",
       "      <th></th>\n",
       "      <th></th>\n",
       "      <th></th>\n",
       "    </tr>\n",
       "  </thead>\n",
       "  <tbody>\n",
       "    <tr>\n",
       "      <th>white</th>\n",
       "      <td>£0.48</td>\n",
       "      <td>£0.14</td>\n",
       "      <td>kg</td>\n",
       "    </tr>\n",
       "    <tr>\n",
       "      <th>round_green_other</th>\n",
       "      <td>£0.50</td>\n",
       "      <td>£0.08</td>\n",
       "      <td>head</td>\n",
       "    </tr>\n",
       "    <tr>\n",
       "      <th>savoy</th>\n",
       "      <td>£0.52</td>\n",
       "      <td>£0.11</td>\n",
       "      <td>head</td>\n",
       "    </tr>\n",
       "    <tr>\n",
       "      <th>red</th>\n",
       "      <td>£0.53</td>\n",
       "      <td>£0.16</td>\n",
       "      <td>kg</td>\n",
       "    </tr>\n",
       "    <tr>\n",
       "      <th>summer_autumn_pointed</th>\n",
       "      <td>£0.60</td>\n",
       "      <td>£0.08</td>\n",
       "      <td>kg</td>\n",
       "    </tr>\n",
       "  </tbody>\n",
       "</table>\n",
       "</div>"
      ],
      "text/plain": [
       "                      mean_price std_price  unit\n",
       "variety                                         \n",
       "white                      £0.48     £0.14    kg\n",
       "round_green_other          £0.50     £0.08  head\n",
       "savoy                      £0.52     £0.11  head\n",
       "red                        £0.53     £0.16    kg\n",
       "summer_autumn_pointed      £0.60     £0.08    kg"
      ]
     },
     "execution_count": 32,
     "metadata": {},
     "output_type": "execute_result"
    }
   ],
   "source": [
    "(\n",
    "    df[df['item'] == 'cabbage']\n",
    "    .groupby('variety')\n",
    "    .agg(\n",
    "    mean_price=('price', 'mean'),\n",
    "    std_price=('price', 'std'),\n",
    "    unit=('unit', 'first')\n",
    ")\n",
    "    .sort_values(['mean_price', 'std_price'])\n",
    "    .assign(\n",
    "    mean_price=lambda d: d['mean_price'].map('£{:.2f}'.format),\n",
    "    std_price=lambda d: d['std_price'].map('£{:.2f}'.format)\n",
    ")\n",
    ")"
   ]
  },
  {
   "cell_type": "markdown",
   "metadata": {},
   "source": [
    "Round Green Other and Summer Autumn Pointed are the most price-stable, with the lowest standard deviation (only £0.08).\n",
    "\n",
    "White cabbage is the cheapest overall, but slightly more volatile than the most stable varieties.\n",
    "\n",
    "Red cabbage has the highest volatility, though still relatively low.\n",
    "\n",
    "Round green other and Savoy cabbages are priced per head, others per kg — this could affect how pricing comparisons are interpreted for sales or packaging.\n"
   ]
  },
  {
   "cell_type": "code",
   "execution_count": 33,
   "metadata": {},
   "outputs": [
    {
     "data": {
      "text/plain": [
       "array(['strawberries'], dtype=object)"
      ]
     },
     "execution_count": 33,
     "metadata": {},
     "output_type": "execute_result"
    }
   ],
   "source": [
    "df[df['item'] == 'strawberries']['variety'].unique() # get unique varieties of strawberries"
   ]
  },
  {
   "cell_type": "markdown",
   "metadata": {},
   "source": [
    "* Search online for information on the seasonality on 'strawberries'\n",
    "* On season include May to August but June and July are considered the peak season in the UK \n",
    "* Create temporary mapping for 'on' and 'off' seasons for 'strawberries'"
   ]
  },
  {
   "cell_type": "code",
   "execution_count": 34,
   "metadata": {},
   "outputs": [],
   "source": [
    "on_season_months = [5, 6, 7, 8]      # May to August\n",
    "off_season_months = [1, 2, 3, 10, 11, 12]  # Jan–Mar, Oct–Dec"
   ]
  },
  {
   "cell_type": "code",
   "execution_count": null,
   "metadata": {},
   "outputs": [],
   "source": [
    "# Convert date column temporarily for season analysis\n",
    "df_temp = df.copy()\n",
    "df_temp['date'] = pd.to_datetime(df_temp['date'])\n",
    "df_temp['month'] = df_temp['date'].dt.month\n",
    "df_temp['year'] = df_temp['date'].dt.year\n",
    "df_temp['Season'] = np.where(df_temp['month'].isin(on_season_months), 'On-Season',\n",
    "                             np.where(df_temp['month'].isin(off_season_months), 'Off-Season', 'Shoulder-Season'))\n",
    "\n",
    "# Filter for one item (e.g. Strawberries)\n",
    "strawberries = df_temp[df_temp['item'] == 'strawberries']"
   ]
  },
  {
   "cell_type": "code",
   "execution_count": 37,
   "metadata": {},
   "outputs": [
    {
     "data": {
      "text/html": [
       "<div>\n",
       "<style scoped>\n",
       "    .dataframe tbody tr th:only-of-type {\n",
       "        vertical-align: middle;\n",
       "    }\n",
       "\n",
       "    .dataframe tbody tr th {\n",
       "        vertical-align: top;\n",
       "    }\n",
       "\n",
       "    .dataframe thead th {\n",
       "        text-align: right;\n",
       "    }\n",
       "</style>\n",
       "<table border=\"1\" class=\"dataframe\">\n",
       "  <thead>\n",
       "    <tr style=\"text-align: right;\">\n",
       "      <th></th>\n",
       "      <th>mean_price</th>\n",
       "      <th>unit</th>\n",
       "    </tr>\n",
       "    <tr>\n",
       "      <th>Season</th>\n",
       "      <th></th>\n",
       "      <th></th>\n",
       "    </tr>\n",
       "  </thead>\n",
       "  <tbody>\n",
       "    <tr>\n",
       "      <th>On-Season</th>\n",
       "      <td>£3.10</td>\n",
       "      <td>kg</td>\n",
       "    </tr>\n",
       "    <tr>\n",
       "      <th>Off-Season</th>\n",
       "      <td>£3.94</td>\n",
       "      <td>kg</td>\n",
       "    </tr>\n",
       "    <tr>\n",
       "      <th>Shoulder-Season</th>\n",
       "      <td>£4.73</td>\n",
       "      <td>kg</td>\n",
       "    </tr>\n",
       "  </tbody>\n",
       "</table>\n",
       "</div>"
      ],
      "text/plain": [
       "                mean_price unit\n",
       "Season                         \n",
       "On-Season            £3.10   kg\n",
       "Off-Season           £3.94   kg\n",
       "Shoulder-Season      £4.73   kg"
      ]
     },
     "execution_count": 37,
     "metadata": {},
     "output_type": "execute_result"
    }
   ],
   "source": [
    "(\n",
    "    df_temp[df_temp['item'] == 'strawberries']\n",
    "    .groupby('Season')\n",
    "    .agg(mean_price=('price', 'mean'), unit=('unit', 'first'))\n",
    "    .sort_values('mean_price')\n",
    "    .assign(mean_price=lambda d: d['mean_price'].map('£{:.2f}'.format))\n",
    ")"
   ]
  },
  {
   "cell_type": "code",
   "execution_count": 38,
   "metadata": {},
   "outputs": [
    {
     "data": {
      "text/html": [
       "<div>\n",
       "<style scoped>\n",
       "    .dataframe tbody tr th:only-of-type {\n",
       "        vertical-align: middle;\n",
       "    }\n",
       "\n",
       "    .dataframe tbody tr th {\n",
       "        vertical-align: top;\n",
       "    }\n",
       "\n",
       "    .dataframe thead th {\n",
       "        text-align: right;\n",
       "    }\n",
       "</style>\n",
       "<table border=\"1\" class=\"dataframe\">\n",
       "  <thead>\n",
       "    <tr style=\"text-align: right;\">\n",
       "      <th></th>\n",
       "      <th>std_price</th>\n",
       "      <th>unit</th>\n",
       "    </tr>\n",
       "    <tr>\n",
       "      <th>Season</th>\n",
       "      <th></th>\n",
       "      <th></th>\n",
       "    </tr>\n",
       "  </thead>\n",
       "  <tbody>\n",
       "    <tr>\n",
       "      <th>On-Season</th>\n",
       "      <td>£1.36</td>\n",
       "      <td>kg</td>\n",
       "    </tr>\n",
       "    <tr>\n",
       "      <th>Shoulder-Season</th>\n",
       "      <td>£1.99</td>\n",
       "      <td>kg</td>\n",
       "    </tr>\n",
       "    <tr>\n",
       "      <th>Off-Season</th>\n",
       "      <td>£2.18</td>\n",
       "      <td>kg</td>\n",
       "    </tr>\n",
       "  </tbody>\n",
       "</table>\n",
       "</div>"
      ],
      "text/plain": [
       "                std_price unit\n",
       "Season                        \n",
       "On-Season           £1.36   kg\n",
       "Shoulder-Season     £1.99   kg\n",
       "Off-Season          £2.18   kg"
      ]
     },
     "execution_count": 38,
     "metadata": {},
     "output_type": "execute_result"
    }
   ],
   "source": [
    "(\n",
    "    df_temp[df_temp['item'] == 'strawberries']\n",
    "    .groupby('Season')\n",
    "    .agg(std_price=('price', 'std'), unit=('unit', 'first'))\n",
    "    .sort_values('std_price')\n",
    "    .assign(std_price=lambda d: d['std_price'].map('£{:.2f}'.format))\n",
    ")"
   ]
  },
  {
   "cell_type": "markdown",
   "metadata": {},
   "source": [
    "On-season (£1.36): Prices are more stable — likely due to local supply being strong.\n",
    "\n",
    "Off-season (£2.18): Higher volatility, possibly from imports, storage issues, or supply chain instability.\n",
    "\n",
    "Shoulder-season (£1.99): Transitional period — prices vary as supply starts or winds down."
   ]
  },
  {
   "cell_type": "markdown",
   "metadata": {},
   "source": [
    "# Further Analysis \n",
    "\n",
    "On-season strawberries are the most stable — prices are predictable when local UK harvest and supply is at it's fullest.\n",
    "\n",
    "Off-season strawberries have the highest price volatility — this makes sense because:\n",
    "- According to online sources they're imported from places like Spain, Morocco, Egypt or the Netherlands \n",
    "- Subject to higher transport, climate, and supply chain variability\n",
    "\n",
    "Shoulder-season (start/end of the growing period) is also unstable — prices jump depending on early/late harvests or limited supply.\n"
   ]
  },
  {
   "cell_type": "code",
   "execution_count": 39,
   "metadata": {},
   "outputs": [
    {
     "data": {
      "text/html": [
       "<div>\n",
       "<style scoped>\n",
       "    .dataframe tbody tr th:only-of-type {\n",
       "        vertical-align: middle;\n",
       "    }\n",
       "\n",
       "    .dataframe tbody tr th {\n",
       "        vertical-align: top;\n",
       "    }\n",
       "\n",
       "    .dataframe thead th {\n",
       "        text-align: right;\n",
       "    }\n",
       "</style>\n",
       "<table border=\"1\" class=\"dataframe\">\n",
       "  <thead>\n",
       "    <tr style=\"text-align: right;\">\n",
       "      <th></th>\n",
       "      <th>mean_price</th>\n",
       "      <th>std_price</th>\n",
       "      <th>unit</th>\n",
       "    </tr>\n",
       "    <tr>\n",
       "      <th>Season</th>\n",
       "      <th></th>\n",
       "      <th></th>\n",
       "      <th></th>\n",
       "    </tr>\n",
       "  </thead>\n",
       "  <tbody>\n",
       "    <tr>\n",
       "      <th>On-Season</th>\n",
       "      <td>£3.10</td>\n",
       "      <td>£1.36</td>\n",
       "      <td>kg</td>\n",
       "    </tr>\n",
       "    <tr>\n",
       "      <th>Off-Season</th>\n",
       "      <td>£3.94</td>\n",
       "      <td>£2.18</td>\n",
       "      <td>kg</td>\n",
       "    </tr>\n",
       "    <tr>\n",
       "      <th>Shoulder-Season</th>\n",
       "      <td>£4.73</td>\n",
       "      <td>£1.99</td>\n",
       "      <td>kg</td>\n",
       "    </tr>\n",
       "  </tbody>\n",
       "</table>\n",
       "</div>"
      ],
      "text/plain": [
       "                mean_price std_price unit\n",
       "Season                                   \n",
       "On-Season            £3.10     £1.36   kg\n",
       "Off-Season           £3.94     £2.18   kg\n",
       "Shoulder-Season      £4.73     £1.99   kg"
      ]
     },
     "execution_count": 39,
     "metadata": {},
     "output_type": "execute_result"
    }
   ],
   "source": [
    "(\n",
    "    df_temp[df_temp['item'] == 'strawberries']\n",
    "    .groupby('Season')\n",
    "    .agg(\n",
    "    mean_price=('price', 'mean'),\n",
    "    std_price=('price', 'std'),\n",
    "    unit=('unit', 'first')\n",
    ")\n",
    "    .sort_values(['mean_price', 'std_price'])\n",
    "    .assign(\n",
    "    mean_price=lambda d: d['mean_price'].map('£{:.2f}'.format),\n",
    "    std_price=lambda d: d['std_price'].map('£{:.2f}'.format)\n",
    ")\n",
    ")"
   ]
  },
  {
   "cell_type": "markdown",
   "metadata": {},
   "source": [
    "# Key insights\n",
    "\n",
    "1. On-season: Best balance of price and stability\n",
    "\n",
    "- Mean price: Lowest (£3.10/kg)\n",
    "\n",
    "- Volatility: Lowest (std £1.36)\n",
    "\n",
    "- Why? Local harvest, consistent supply, lower transport costs, no tariffs.\n",
    "\n",
    "Best time for consumers and retailers — lower prices and more predictability.\n",
    "\n",
    "\n",
    "2. Off-season: Higher prices, highest volatility\n",
    "\n",
    "- Mean price: Mid-range (£3.94/kg)\n",
    "\n",
    "- Volatility: Highest (std £2.18)\n",
    "\n",
    "- Why?\n",
    "\n",
    "Imported supply (higher costs, more disruption)\n",
    "\n",
    "Prices fluctuate based on origin, weather, fuel costs, etc.\n",
    "\n",
    "More expensive and risky for retailers — can affect margins and availability.\n",
    "\n",
    "\n",
    "3. Shoulder-season: Most expensive, still volatile\n",
    "\n",
    "- Mean price: Highest (£4.73/kg)\n",
    "\n",
    "- Volatility: High (std £1.99)\n",
    "\n",
    "- Why?\n",
    "\n",
    "Supply is limited and inconsistent — early or late season crops\n",
    "\n",
    "Might be a mix of local + imported, which adds variability\n",
    "\n",
    "Prices can spike due to novelty or limited stock\n",
    "\n",
    "Consumers pay the most here, even though volatility is slightly less than off-season.\n",
    "\n"
   ]
  },
  {
   "cell_type": "markdown",
   "metadata": {},
   "source": [
    "Summary: What Does It Say About Strawberry Prices?\n",
    "\n",
    "Strawberries are highly seasonal.\n",
    "As they move out of the UK growing window, prices become increasingly unstable — especially in the off-season, where external factors dominate. This suggests significant pricing risk for both suppliers and consumers outside peak months."
   ]
  },
  {
   "cell_type": "markdown",
   "metadata": {},
   "source": [
    "Remove the seasonal tag and keep the DataFrame with just Fruit & Veg "
   ]
  },
  {
   "cell_type": "code",
   "execution_count": 41,
   "metadata": {},
   "outputs": [
    {
     "name": "stdout",
     "output_type": "stream",
     "text": [
      "       category          item            variety        date  price  unit\n",
      "0         fruit        apples  bramleys_seedling  2022-03-11   2.05    kg\n",
      "1         fruit        apples  coxs_orange_group  2022-03-11   1.22    kg\n",
      "2         fruit        apples    egremont_russet  2022-03-11   1.14    kg\n",
      "3         fruit        apples           braeburn  2022-03-11   1.05    kg\n",
      "4         fruit        apples               gala  2022-03-11   1.03    kg\n",
      "...         ...           ...                ...         ...    ...   ...\n",
      "9251  vegetable  spinach_leaf      loose_bunches  2017-11-03   0.76    kg\n",
      "9252  vegetable     sweetcorn          sweetcorn  2017-11-03   0.18  head\n",
      "9253  vegetable      tomatoes              round  2017-11-03   0.97    kg\n",
      "9254  vegetable      tomatoes               vine  2017-11-03   1.54    kg\n",
      "9255  vegetable    watercress       pillow_packs  2017-11-03   8.04    kg\n",
      "\n",
      "[9256 rows x 6 columns]\n"
     ]
    }
   ],
   "source": [
    "print(df)"
   ]
  },
  {
   "cell_type": "code",
   "execution_count": 42,
   "metadata": {},
   "outputs": [],
   "source": [
    "df.to_csv('Dataset/Processed/fruitvegprices-2017_2022-cleaned.csv', index=False)   "
   ]
  },
  {
   "cell_type": "markdown",
   "metadata": {
    "id": "-mavJ8DibrcQ"
   },
   "source": [
    "# Section 1"
   ]
  },
  {
   "cell_type": "markdown",
   "metadata": {},
   "source": [
    "Section 1 content"
   ]
  },
  {
   "cell_type": "code",
   "execution_count": null,
   "metadata": {},
   "outputs": [],
   "source": []
  },
  {
   "cell_type": "markdown",
   "metadata": {
    "id": "ZY3l0-AxO93d"
   },
   "source": [
    "---"
   ]
  },
  {
   "cell_type": "markdown",
   "metadata": {
    "id": "uFQo3ycuO-v6"
   },
   "source": [
    "# Section 2"
   ]
  },
  {
   "cell_type": "markdown",
   "metadata": {},
   "source": [
    "Section 2 content"
   ]
  },
  {
   "cell_type": "code",
   "execution_count": null,
   "metadata": {},
   "outputs": [],
   "source": []
  },
  {
   "cell_type": "markdown",
   "metadata": {},
   "source": [
    "---"
   ]
  },
  {
   "cell_type": "markdown",
   "metadata": {},
   "source": [
    "import plotly.graph_objects as go\n",
    "\n",
    "# Create interactive line plot for VS Code\n",
    "fig = go.Figure(data=go.Scatter(x=cabbage_df['date'], y=cabbage_df['price'], mode='lines+markers'))\n",
    "fig.update_layout(\n",
    "    title='Cabbage Price Over Time', \n",
    "    xaxis_title='Date', \n",
    "    yaxis_title='Price',\n",
    "    width=800,\n",
    "    height=500\n",
    ")\n",
    "fig.show()"
   ]
  },
  {
   "cell_type": "markdown",
   "metadata": {},
   "source": [
    "* You may add as many sections as you want, as long as it supports your project workflow.\n",
    "* All notebook's cells should be run top-down (you can't create a dynamic wherein a given point you need to go back to a previous cell to execute some task, like go back to a previous cell and refresh a variable content)"
   ]
  },
  {
   "cell_type": "markdown",
   "metadata": {},
   "source": [
    "---"
   ]
  }
 ],
 "metadata": {
  "accelerator": "GPU",
  "colab": {
   "name": "Data Practitioner Jupyter Notebook.ipynb",
   "provenance": [],
   "toc_visible": true
  },
  "kernelspec": {
   "display_name": ".venv",
   "language": "python",
   "name": "python3"
  },
  "language_info": {
   "codemirror_mode": {
    "name": "ipython",
    "version": 3
   },
   "file_extension": ".py",
   "mimetype": "text/x-python",
   "name": "python",
   "nbconvert_exporter": "python",
   "pygments_lexer": "ipython3",
   "version": "3.12.8"
  },
  "orig_nbformat": 2
 },
 "nbformat": 4,
 "nbformat_minor": 2
}
